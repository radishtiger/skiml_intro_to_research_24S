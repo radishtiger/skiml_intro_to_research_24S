{
 "cells": [
  {
   "cell_type": "code",
   "execution_count": null,
   "metadata": {},
   "outputs": [],
   "source": [
    "import os\n",
    "import yaml\n",
    "import random\n",
    "import numpy as np\n",
    "import matplotlib.pyplot as plt\n",
    "from tqdm import tqdm\n",
    "import wandb\n",
    "\n",
    "import torch\n",
    "import torch.nn as nn\n",
    "import torch.nn.functional as F\n",
    "from torch.utils.data import DataLoader\n",
    "\n",
    "import torchvision\n",
    "import torchvision.transforms as tr\n",
    "import torchvision.models as models\n",
    "\n",
    "from IPython.display import clear_output\n",
    "\n",
    "from model import MLPNet, ConvNet\n",
    "from utils import seed_everything, map_dict_to_str, make_loader, run\n",
    "\n"
   ]
  },
  {
   "cell_type": "code",
   "execution_count": null,
   "metadata": {},
   "outputs": [],
   "source": [
    "# 사용 가능한 gpu 확인하기.\n",
    "device = torch.device(\"cuda\" if torch.cuda.is_available() else \"cpu\")\n",
    "print('Device:', device) \n",
    "# 이 과제는 gpu를 써야 빠르게 실행됩니다. \n",
    "# \"Device: cpu\"가 뜬다면, launch-jupyter 명령어에서 자원을 다시 할당받아주세요.\n",
    "\n",
    "# 현재 사용 가능한 gpu개수를 확인합니다. launch-jupyter 명령어에서 요청한 gpu 개수를 확인합니다.\n",
    "print('Count of using GPUs:', torch.cuda.device_count())"
   ]
  },
  {
   "cell_type": "code",
   "execution_count": null,
   "metadata": {},
   "outputs": [],
   "source": [
    "with open('config.yaml') as f:\n",
    "    config = yaml.full_load(f)\n",
    "\n",
    "seed_everything()\n",
    "\n",
    "my_project_name = \"wandb_tutorial_test_jupyter\"\n",
    "run(config, my_project_name)\n"
   ]
  }
 ],
 "metadata": {
  "language_info": {
   "name": "python"
  }
 },
 "nbformat": 4,
 "nbformat_minor": 2
}
